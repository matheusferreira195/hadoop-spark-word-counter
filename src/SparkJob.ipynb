{
 "metadata": {
  "language_info": {
   "codemirror_mode": {
    "name": "ipython",
    "version": 3
   },
   "file_extension": ".py",
   "mimetype": "text/x-python",
   "name": "python",
   "nbconvert_exporter": "python",
   "pygments_lexer": "ipython3",
   "version": 3
  },
  "orig_nbformat": 2
 },
 "nbformat": 4,
 "nbformat_minor": 2,
 "cells": [
  {
   "source": [
    "## SparkJob\n",
    "<p>Este script pré-processa o .txt, aplica as operações de map e reduce, registrando o tempo da operação<!p>"
   ],
   "cell_type": "markdown",
   "metadata": {}
  },
  {
   "cell_type": "code",
   "execution_count": null,
   "metadata": {},
   "outputs": [],
   "source": [
    "from pyspark import SparkContext\n",
    "from time import time"
   ]
  },
  {
   "cell_type": "code",
   "execution_count": null,
   "metadata": {},
   "outputs": [],
   "source": [
    "def map_reduce_and_count():\n",
    "    \n",
    "    sc = SparkContext.getOrCreate()\n",
    "    text_file = sc.textFile(\"hdfs://cluster-4eac-m/files/shakespeare.txt\")\n",
    "    \n",
    "    #Divindo o texto em palavras usando o espaço como delimitador\n",
    "    parse_text = text_file.filter(lambda x: x.split(' '))\n",
    "    \n",
    "    #Retirando os espaços vazios\n",
    "    filter_empty_line = parse_text.filter(lambda x: len(x) > 0)\n",
    "    \n",
    "    #Aplicando map\n",
    "    mapped_words = filter_empty_line.flatMap(lambda x: x.split(' '))\n",
    "    mapped_and_reduced_words = mapped_words.map(lambda x: (x,1))\n",
    "    \n",
    "    #Aplicando reduce\n",
    "    mapped_and_reduced_words = mapped_and_reduced_words.reduceByKey(lambda x, y: x + y)\n",
    "    mapped_and_reduced_words = mapped_and_reduced_words.map(lambda x: (x[1], x[0]))\n",
    "    mapped_and_reduced_words = mapped_and_reduced_words.sortByKey(False)\n",
    "    \n",
    "    #Printando o par (palavra, frequência)\n",
    "    for word in mapped_and_reduced_words.collect():\n",
    "        print(word)"
   ]
  },
  {
   "cell_type": "code",
   "execution_count": null,
   "metadata": {},
   "outputs": [],
   "source": [
    "print(run_time)"
   ]
  }
 ]
}